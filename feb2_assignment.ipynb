{
 "cells": [
  {
   "cell_type": "markdown",
   "id": "26701f2c-7d3d-4ac1-967b-656cfd697013",
   "metadata": {},
   "source": [
    "Q1. Explain with an example each when to use a for loop and a while loop.\n",
    "\n",
    "//while loop is preferably used when we do not know the exact number of the iteration\n",
    "//for loop is preferablly used when we know the number of iterations to be executed"
   ]
  },
  {
   "cell_type": "code",
   "execution_count": 1,
   "id": "614407e8-14c4-4313-94e9-afbd1062cd3f",
   "metadata": {},
   "outputs": [
    {
     "name": "stdout",
     "output_type": "stream",
     "text": [
      "1\n",
      "2\n",
      "3\n",
      "4\n",
      "5\n"
     ]
    }
   ],
   "source": [
    "i = 1\n",
    "while i < 6:\n",
    "  print(i)\n",
    "  i += 1\n"
   ]
  },
  {
   "cell_type": "code",
   "execution_count": 2,
   "id": "7956a4b8-fe51-44e9-beb5-659e6a81ae17",
   "metadata": {},
   "outputs": [
    {
     "name": "stdin",
     "output_type": "stream",
     "text": [
      "Enter the number to print table of: 2\n"
     ]
    },
    {
     "name": "stdout",
     "output_type": "stream",
     "text": [
      "Table of:  2\n",
      "2 x 1 = 2\n",
      "2 x 2 = 4\n",
      "2 x 3 = 6\n",
      "2 x 4 = 8\n",
      "2 x 5 = 10\n",
      "2 x 6 = 12\n",
      "2 x 7 = 14\n",
      "2 x 8 = 16\n",
      "2 x 9 = 18\n",
      "2 x 10 = 20\n"
     ]
    }
   ],
   "source": [
    "number = int(input (\"Enter the number to print table of:\"))          \n",
    "print (\"Table of: \", number)    \n",
    "for count in range(1, 11):      \n",
    "   print (number, 'x', count, '=', number * count)  "
   ]
  },
  {
   "cell_type": "markdown",
   "id": "c587484e-544c-401f-aa7d-07917ae3b70e",
   "metadata": {},
   "source": [
    "Q2. Write a python program to print the sum and product of the first 10 natural numbers using for\n",
    "and while loop."
   ]
  },
  {
   "cell_type": "code",
   "execution_count": 3,
   "id": "e69b9ed4-a0fb-4d13-8486-fd3972f14e98",
   "metadata": {},
   "outputs": [
    {
     "name": "stdout",
     "output_type": "stream",
     "text": [
      "\n",
      "Sum = 55\n"
     ]
    }
   ],
   "source": [
    "'''sum of first 10 natural numbers using for loop'''\n",
    "\n",
    "sum = 0\n",
    "for i in range(1, 11):\n",
    "    sum = sum+i\n",
    "print(\"\\nSum =\", sum)"
   ]
  },
  {
   "cell_type": "code",
   "execution_count": 4,
   "id": "e60112cf-3810-492f-9686-210117cb8756",
   "metadata": {},
   "outputs": [
    {
     "name": "stdout",
     "output_type": "stream",
     "text": [
      "product= 3628800\n"
     ]
    }
   ],
   "source": [
    "'''product of first 10 natural number using while loop'''\n",
    "\n",
    "product = 1\n",
    "i = 1\n",
    "while i<11:\n",
    "    product *= i\n",
    "    i += 1\n",
    "print(\"product=\", product)"
   ]
  },
  {
   "cell_type": "markdown",
   "id": "dfa65387-c8c0-4d63-a2a5-bca37e51829c",
   "metadata": {},
   "source": [
    "Q3. Create a python program to compute the electricity bill for a household.\n",
    "The per-unit charges in rupees are as follows: For the first 100 units, the user will be charged Rs. 4.5 per\n",
    "unit, for the next 100 units, the user will be charged Rs. 6 per unit, and for the next 100 units, the user will\n",
    "be charged Rs. 10 per unit, After 300 units and above the user will be charged Rs. 20 per unit.\n",
    "You are required to take the units of electricity consumed in a month from the user as input.\n",
    "Your program must pass this test case: when the unit of electricity consumed by the user in a month is\n",
    "310, the total electricity bill should be 2250."
   ]
  },
  {
   "cell_type": "code",
   "execution_count": 5,
   "id": "d042ab3b-7782-487d-ad6c-d563f814ed85",
   "metadata": {},
   "outputs": [
    {
     "name": "stdin",
     "output_type": "stream",
     "text": [
      "Enter your unit:  310\n"
     ]
    },
    {
     "name": "stdout",
     "output_type": "stream",
     "text": [
      "Bill Per Unit: 2250\n"
     ]
    }
   ],
   "source": [
    "unit = int(input(\"Enter your unit: \"))\n",
    "if unit <= 100:\n",
    "    bill = unit * 4.5\n",
    "elif unit >= 101 and unit <= 200:\n",
    "    bill = 450 + ((unit - 100) * 6)\n",
    "elif unit >= 201 and unit <= 300:\n",
    "    bill = 450 + 600 + ((unit - 200) * 10)\n",
    "else:\n",
    "    bill = 450 + 600 + 1000 + ((unit - 300) * 20)\n",
    "print(\"Bill Per Unit:\",bill)"
   ]
  },
  {
   "cell_type": "markdown",
   "id": "0cb51f83-d1c9-4f92-86aa-2fcd06dc83d9",
   "metadata": {},
   "source": [
    "Q4. Create a list of numbers from 1 to 100. Use for loop and while loop to calculate the cube of each\n",
    "number and if the cube of that number is divisible by 4 or 5 then append that number in a list and print\n",
    "that list."
   ]
  },
  {
   "cell_type": "code",
   "execution_count": 10,
   "id": "29a07805-ceb5-47fd-aae6-afc50fad4c62",
   "metadata": {},
   "outputs": [
    {
     "name": "stdout",
     "output_type": "stream",
     "text": [
      "[8, 64, 125, 216, 512, 1000, 1728, 2744, 3375, 4096, 5832, 8000, 10648, 13824, 15625, 17576, 21952, 27000, 32768, 39304, 42875, 46656, 54872, 64000, 74088, 85184, 91125, 97336, 110592, 125000, 140608, 157464, 166375, 175616, 195112, 216000, 238328, 262144, 274625, 287496, 314432, 343000, 373248, 405224, 421875, 438976, 474552, 512000, 551368, 592704, 614125, 636056, 681472, 729000, 778688, 830584, 857375, 884736, 941192, 1000000]\n"
     ]
    }
   ],
   "source": [
    "l = []\n",
    "for i in range(1,101):\n",
    "    i1=i*i*i\n",
    "    if((i1%4==0) or (i1%5==0)):\n",
    "        l.append(i1)\n",
    "print(l)"
   ]
  },
  {
   "cell_type": "markdown",
   "id": "44db75d4-5da7-45e9-91eb-b47874c7a119",
   "metadata": {},
   "source": [
    "Q5. Write a program to filter count vowels in the below-given string.\n",
    "string = \"I want to become a data scientist\""
   ]
  },
  {
   "cell_type": "code",
   "execution_count": null,
   "id": "f9dc5cb4-f379-4f06-8bb4-dd217b09e015",
   "metadata": {},
   "outputs": [],
   "source": [
    "string = \"I want to become a data scientist\"\n",
    "vowels = \"aeiouAEIOU\"\n",
    " \n",
    "count = sum(string.count(vowel) for vowel in vowels)\n",
    "print(count)"
   ]
  }
 ],
 "metadata": {
  "kernelspec": {
   "display_name": "Python 3 (ipykernel)",
   "language": "python",
   "name": "python3"
  },
  "language_info": {
   "codemirror_mode": {
    "name": "ipython",
    "version": 3
   },
   "file_extension": ".py",
   "mimetype": "text/x-python",
   "name": "python",
   "nbconvert_exporter": "python",
   "pygments_lexer": "ipython3",
   "version": "3.10.8"
  }
 },
 "nbformat": 4,
 "nbformat_minor": 5
}
