{
 "cells": [
  {
   "cell_type": "code",
   "execution_count": 1,
   "id": "ebdf9503-2676-4eaa-9df5-946fb57758ba",
   "metadata": {},
   "outputs": [
    {
     "name": "stdin",
     "output_type": "stream",
     "text": [
      "Enter percentage of student:  60\n"
     ]
    },
    {
     "name": "stdout",
     "output_type": "stream",
     "text": [
      "Your Grade is C\n"
     ]
    }
   ],
   "source": [
    "#Q.1 Displaying grade based on percentage provided by the user\n",
    "\n",
    "per=int(input(\"Enter percentage of student: \"))\n",
    "if per>90:\n",
    "    print(\"Your Grade is A\")\n",
    "elif per>80 and per<=90:\n",
    "    print(\"Your Grade is B\")\n",
    "elif per>=60 and per<=80:\n",
    "    print(\"Your Grade is C\")\n",
    "elif per>60:\n",
    "    print(\"Your Grade is D\")\n",
    "else:\n",
    "    print(\"Invalid Input!\")"
   ]
  },
  {
   "cell_type": "code",
   "execution_count": 2,
   "id": "6f5a1bdc-8850-4e68-9fed-d8b17ed50e13",
   "metadata": {},
   "outputs": [
    {
     "name": "stdin",
     "output_type": "stream",
     "text": [
      "Enter the cost price of the bike: 101200\n"
     ]
    },
    {
     "name": "stdout",
     "output_type": "stream",
     "text": [
      "15180.0 is the road tax to be paid.\n"
     ]
    }
   ],
   "source": [
    "# Write a program to accept the cost price of a bike and display the road tax to be paid according to the criteria\n",
    "\n",
    "cp = float(input(\"Enter the cost price of the bike:\"))\n",
    "if cp>100000:\n",
    "    t=0.15\n",
    "elif cp>50000 and cp<=100000:\n",
    "    t=0.10\n",
    "elif cp<50000:\n",
    "    t=0.05\n",
    "rt=cp*t\n",
    "print(rt,\"is the road tax to be paid.\")"
   ]
  },
  {
   "cell_type": "code",
   "execution_count": 5,
   "id": "49410609-2c7d-4090-b727-68583ae56c96",
   "metadata": {},
   "outputs": [
    {
     "name": "stdin",
     "output_type": "stream",
     "text": [
      "Enter city from('Delhi','Agra','Jaipur') Jaipur\n"
     ]
    },
    {
     "name": "stdout",
     "output_type": "stream",
     "text": [
      "Monument is: Jal Mahal\n"
     ]
    }
   ],
   "source": [
    "# Q.3 Accept city from the user and display monuments of the city\n",
    "\n",
    "city=input(\"Enter city from('Delhi','Agra','Jaipur')\")\n",
    "if city=='Delhi':\n",
    "    print(\"Monument is: Red Fort\")\n",
    "elif city=='Agra':\n",
    "    print(\"Monument is: Taj Mahal\")\n",
    "elif city=='Jaipur':\n",
    "    print(\"Monument is: Jal Mahal\")\n",
    "else:\n",
    "    print(\"Enter the displayed cities\")"
   ]
  },
  {
   "cell_type": "code",
   "execution_count": 6,
   "id": "15c3e13e-635e-4324-9e25-682fd880d772",
   "metadata": {},
   "outputs": [
    {
     "name": "stdout",
     "output_type": "stream",
     "text": [
      "Total iteration required 3\n"
     ]
    }
   ],
   "source": [
    "# Q.4 Check how many times a given number can be divided by 3 before it is less then or equal to 10.\n",
    "\n",
    "count = 0\n",
    "number = 180\n",
    "while number > 10:\n",
    "    number = number / 3\n",
    "    count = count + 1\n",
    "print('Total iteration required', count)"
   ]
  },
  {
   "cell_type": "code",
   "execution_count": 8,
   "id": "a46a16d7-c600-469e-97d2-3c4f2376d4d4",
   "metadata": {},
   "outputs": [
    {
     "name": "stdout",
     "output_type": "stream",
     "text": [
      "Hello World\n",
      "Hello World\n",
      "Hello World\n"
     ]
    }
   ],
   "source": [
    "# Q.5 Why and when to use while loop in python give a detailed description with example.\n",
    "\n",
    "'''Python While Loop is used to execute a block of statements repeatedly until a given condition is satisfied. And when the condition becomes false, the line immediately after the loop in the program is executed.\n",
    "While loop falls under the category of indefinite iteration. Indefinite iteration means that the number of times the loop is executed isn’t specified explicitly in advance.'''\n",
    "\n",
    "\n",
    "count = 0\n",
    "while (count < 3):\n",
    "    count = count + 1\n",
    "    print(\"Hello World\")"
   ]
  },
  {
   "cell_type": "code",
   "execution_count": 9,
   "id": "be612034-832a-4e74-8fee-f3212d9f9986",
   "metadata": {},
   "outputs": [
    {
     "name": "stdin",
     "output_type": "stream",
     "text": [
      "Enter number of rows :  4\n"
     ]
    },
    {
     "name": "stdout",
     "output_type": "stream",
     "text": [
      "* \n",
      "* * \n",
      "* * * \n",
      "* * * * \n"
     ]
    }
   ],
   "source": [
    "# Q.6 Use nested while loop to print 3 different patterns.\n",
    "\n",
    "n = int(input('Enter number of rows : '))\n",
    "\n",
    "i = 1\n",
    "while i <= n :\n",
    "    j = 1\n",
    "    while j <= i:\n",
    "        print(\"*\", end = \" \")\n",
    "        j += 1\n",
    "    print()\n",
    "    i += 1"
   ]
  },
  {
   "cell_type": "code",
   "execution_count": 10,
   "id": "d7aeec85-c9dd-436d-b5a4-46b91bcba2b3",
   "metadata": {},
   "outputs": [
    {
     "name": "stdin",
     "output_type": "stream",
     "text": [
      "Enter number of rows :  3\n"
     ]
    },
    {
     "name": "stdout",
     "output_type": "stream",
     "text": [
      "* * * \n",
      "* * \n",
      "* \n"
     ]
    }
   ],
   "source": [
    "n = int(input('Enter number of rows : '))\n",
    " \n",
    "i = 1\n",
    "while i <= n :\n",
    "    j = n\n",
    "    while j >= i:\n",
    "        print(\"*\", end = \" \")\n",
    "        j -= 1\n",
    "    print()\n",
    "    i += 1"
   ]
  },
  {
   "cell_type": "code",
   "execution_count": 11,
   "id": "325da8a3-dc15-4885-ac28-df56b99d9cde",
   "metadata": {},
   "outputs": [
    {
     "name": "stdin",
     "output_type": "stream",
     "text": [
      "Enter number of rows :  5\n"
     ]
    },
    {
     "name": "stdout",
     "output_type": "stream",
     "text": [
      "  1 \n",
      "  2   3 \n",
      "  4   5   6 \n",
      "  7   8   9  10 \n",
      " 11  12  13  14  15 \n"
     ]
    }
   ],
   "source": [
    "\n",
    "n = int(input('Enter number of rows : '))\n",
    " \n",
    "k = 1\n",
    "i = 1\n",
    "while i <= n :\n",
    "    j = 1\n",
    "    while j <= i:\n",
    "        print(\"{:3d}\".format(k), end = \" \")\n",
    "        j += 1\n",
    "        k += 1\n",
    "    print()\n",
    "    i += 1\n"
   ]
  },
  {
   "cell_type": "code",
   "execution_count": 12,
   "id": "af760d0a-15cb-4af0-9f5e-b4e347ba3dec",
   "metadata": {},
   "outputs": [
    {
     "name": "stdout",
     "output_type": "stream",
     "text": [
      "10\n",
      "9\n",
      "8\n",
      "7\n",
      "6\n",
      "5\n",
      "4\n",
      "3\n",
      "2\n",
      "1\n"
     ]
    }
   ],
   "source": [
    "# Q.7 Reverse a while loop to display numbers from 10 to 1.\n",
    "\n",
    "i = 10\n",
    "while i > 0:\n",
    "    print(i)\n",
    "    i = i - 1"
   ]
  },
  {
   "cell_type": "code",
   "execution_count": null,
   "id": "dea80438-7956-49c3-b917-aaad40d9946c",
   "metadata": {},
   "outputs": [],
   "source": []
  }
 ],
 "metadata": {
  "kernelspec": {
   "display_name": "Python 3 (ipykernel)",
   "language": "python",
   "name": "python3"
  },
  "language_info": {
   "codemirror_mode": {
    "name": "ipython",
    "version": 3
   },
   "file_extension": ".py",
   "mimetype": "text/x-python",
   "name": "python",
   "nbconvert_exporter": "python",
   "pygments_lexer": "ipython3",
   "version": "3.10.8"
  }
 },
 "nbformat": 4,
 "nbformat_minor": 5
}
