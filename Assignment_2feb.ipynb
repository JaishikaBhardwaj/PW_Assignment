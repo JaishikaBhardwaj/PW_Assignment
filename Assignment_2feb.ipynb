{
 "cells": [
  {
   "cell_type": "markdown",
   "id": "e6b724ba-557d-44ad-a863-a4e74f4b283c",
   "metadata": {},
   "source": [
    "Q1. Explain with an example each when to use a for loop and a while loop.\n",
    "\n",
    "//while loop is preferably used when we do not know the exact number of the iteration\n",
    "\n",
    "i = 1\n",
    "while i < 6:\n",
    "  print(i)\n",
    "  i += 1\n",
    "\n",
    "//for loop is preferablly used when we know the number of iterations to be executed\n",
    "\n",
    "number = int(input (\"Enter the number to print table of:\"))          \n",
    "print (\"Table of: \", number)    \n",
    "for count in range(1, 11):      \n",
    "   print (number, 'x', count, '=', number * count)   \n",
    "   "
   ]
  },
  {
   "cell_type": "markdown",
   "id": "4810af2d-195e-424a-8a89-2d6ca28481f8",
   "metadata": {},
   "source": [
    "Q2. Write a python program to print the sum and product of the first 10 natural numbers using for\n",
    "and while loop.\n",
    "\n",
    "//sum of first 10 natural numbers using for loop\n",
    "\n",
    "sum = 0\n",
    "for i in range(1, 11):\n",
    "    sum = sum+i\n",
    "print(\"\\nSum =\", sum)\n",
    "\n",
    "//product of first 10 natural number using while loop \n",
    "\n",
    "product = 1\n",
    "i = 1\n",
    "while i<11:\n",
    "    product *= i\n",
    "    i += 1\n",
    "print(\"product=\", product)"
   ]
  },
  {
   "cell_type": "markdown",
   "id": "17d4e7e9-6d97-4b32-aa15-bd0278cd00fc",
   "metadata": {},
   "source": [
    "Q3. Create a python program to compute the electricity bill for a household.\n",
    "The per-unit charges in rupees are as follows: For the first 100 units, the user will be charged Rs. 4.5 per\n",
    "unit, for the next 100 units, the user will be charged Rs. 6 per unit, and for the next 100 units, the user will\n",
    "be charged Rs. 10 per unit, After 300 units and above the user will be charged Rs. 20 per unit.\n",
    "You are required to take the units of electricity consumed in a month from the user as input.\n",
    "Your program must pass this test case: when the unit of electricity consumed by the user in a month is\n",
    "310, the total electricity bill should be 2250.\n",
    "\n",
    "unit = int(input(\"Enter your unit: \"))\n",
    "if unit <= 100:\n",
    "    bill = unit * 4.5\n",
    "elif unit >= 101 and unit <= 200:\n",
    "    bill = 450 + ((unit - 100) * 6)\n",
    "elif unit >= 201 and unit <= 300:\n",
    "    bill = 450 + 600 + ((unit - 200) * 10)\n",
    "else:\n",
    "    bill = 450 + 600 + 1000 + ((unit - 300) * 20)\n",
    "print(\"Bill Per Unit:\",bill)"
   ]
  },
  {
   "cell_type": "markdown",
   "id": "22810f9f-026a-4448-96fb-fc3d97bf404c",
   "metadata": {},
   "source": [
    "Q4. Create a list of numbers from 1 to 100. Use for loop and while loop to calculate the cube of each\n",
    "number and if the cube of that number is divisible by 4 or 5 then append that number in a list and print\n",
    "that list.\n",
    "\n",
    "l = []\n",
    "for i in range(1,101):\n",
    "    if((i%4==0) or (i%5==0)):\n",
    "        l.append(i*i*i)\n",
    "print(res)\n"
   ]
  },
  {
   "cell_type": "markdown",
   "id": "3f2e8995-aa85-4d9e-942b-426207b37080",
   "metadata": {},
   "source": [
    "Q5. Write a program to filter count vowels in the below-given string.\n",
    "string = \"I want to become a data scientist\"\n",
    "\n",
    "string = \"I want to become a data scientist\"\n",
    "vowels = \"aeiouAEIOU\"\n",
    " \n",
    "count = sum(string.count(vowel) for vowel in vowels)\n",
    "print(count)\n"
   ]
  }
 ],
 "metadata": {
  "kernelspec": {
   "display_name": "Python 3 (ipykernel)",
   "language": "python",
   "name": "python3"
  },
  "language_info": {
   "codemirror_mode": {
    "name": "ipython",
    "version": 3
   },
   "file_extension": ".py",
   "mimetype": "text/x-python",
   "name": "python",
   "nbconvert_exporter": "python",
   "pygments_lexer": "ipython3",
   "version": "3.10.8"
  }
 },
 "nbformat": 4,
 "nbformat_minor": 5
}
