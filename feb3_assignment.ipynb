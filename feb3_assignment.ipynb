{
 "cells": [
  {
   "cell_type": "markdown",
   "id": "e51c7b87-4910-4dc1-989d-c8afad1f494d",
   "metadata": {},
   "source": [
    "Q1. Which keyword is used to create a function? Create a function to return a list of odd numbers in the\n",
    "range of 1 to 25."
   ]
  },
  {
   "cell_type": "markdown",
   "id": "32dc9b9f-5519-4398-a039-dde1b3eba0d9",
   "metadata": {},
   "source": [
    "'def ' keyword is used to create a function "
   ]
  },
  {
   "cell_type": "code",
   "execution_count": 1,
   "id": "2890ae44-c430-4ed4-997b-ce47bbf915d8",
   "metadata": {},
   "outputs": [],
   "source": [
    "for num in range(1,26):\n",
    "    if num % 2 != 0:\n",
    "        print(num)"
   ]
  },
  {
   "cell_type": "markdown",
   "id": "2eab8201-10c2-46cf-ba27-ef8b897b52aa",
   "metadata": {},
   "source": [
    "Q2. Why *args and **kwargs is used in some functions? Create a function each for *args and **kwargs\n",
    "to demonstrate their use."
   ]
  },
  {
   "cell_type": "markdown",
   "id": "bdbfda2f-b88e-4a3e-b01e-baa66647fbe3",
   "metadata": {},
   "source": [
    "*args in function definitions in Python is used to pass a variable number of arguments to a function. It is used to pass a non-keyworded, variable-length argument list. \n",
    "whereas,\n",
    "**kwargs in function definitions in Python is used to pass a keyworded, variable-length argument list. We use the name kwargs with the double star. The reason is that the double star allows us to pass through keyword arguments\n"
   ]
  },
  {
   "cell_type": "code",
   "execution_count": 3,
   "id": "41def314-6ea5-4001-975f-19255e3fe46a",
   "metadata": {},
   "outputs": [
    {
     "name": "stdout",
     "output_type": "stream",
     "text": [
      "Hello\n",
      "Welcome\n",
      "to\n",
      "my\n",
      "first\n",
      "program\n",
      "1\n",
      "2\n",
      "3\n"
     ]
    }
   ],
   "source": [
    "def myFun(*args):\n",
    "    for x in args:\n",
    "        print(x) \n",
    "myFun('Hello', 'Welcome', 'to', 'my', 'first', 'program')\n",
    "myFun(1,2,3)"
   ]
  },
  {
   "cell_type": "code",
   "execution_count": 4,
   "id": "3ccdfe88-0521-44c0-aff0-3357317ea47a",
   "metadata": {},
   "outputs": [],
   "source": [
    "def myFun1(**kwargs):\n",
    "    return kwargs"
   ]
  },
  {
   "cell_type": "code",
   "execution_count": 5,
   "id": "7c733044-fc77-4858-9ac1-2f1ceb6f6e0b",
   "metadata": {},
   "outputs": [
    {
     "data": {
      "text/plain": [
       "{}"
      ]
     },
     "execution_count": 5,
     "metadata": {},
     "output_type": "execute_result"
    }
   ],
   "source": [
    "myFun1()"
   ]
  },
  {
   "cell_type": "code",
   "execution_count": 6,
   "id": "2d1ba1c7-fe06-4296-bae6-5ed7854438f9",
   "metadata": {},
   "outputs": [
    {
     "data": {
      "text/plain": [
       "{'a': [1, 2, 3, 4, 5], 'b': 'hello', 'c': 34.23}"
      ]
     },
     "execution_count": 6,
     "metadata": {},
     "output_type": "execute_result"
    }
   ],
   "source": [
    "myFun1(a=[1,2,3,4,5], b=\"hello\", c=34.23)"
   ]
  },
  {
   "cell_type": "markdown",
   "id": "e6d245d5-2a83-4d9c-a812-9976039ccd07",
   "metadata": {},
   "source": [
    "Q3. What is an iterator in python? Name the method used to initialise the iterator object and the method\n",
    "used for iteration. Use these methods to print the first five elements of the given list [2, 4, 6, 8, 10, 12, 14,\n",
    "16, 18, 20]."
   ]
  },
  {
   "cell_type": "markdown",
   "id": "1cac8761-dedb-44fc-8825-5e471f2ea5eb",
   "metadata": {},
   "source": [
    "An iterator in Python is an object that is used to iterate over iterable objects like lists, tuples, dicts, and sets.\n",
    "The Python iterators object is initialized using the iter() method.\n",
    "It uses the next() method for iteration."
   ]
  },
  {
   "cell_type": "code",
   "execution_count": 26,
   "id": "21d2cc1d-a606-4f99-8984-2c264b532cd3",
   "metadata": {},
   "outputs": [
    {
     "name": "stdout",
     "output_type": "stream",
     "text": [
      "2\n",
      "4\n",
      "6\n",
      "8\n",
      "10\n"
     ]
    }
   ],
   "source": [
    "l1=[2,4,6,8,10,12,14,16,18,20]\n",
    "ch_iterator = iter(l1)\n",
    "count=0\n",
    "for i in l1:\n",
    "    if count<5:\n",
    "        print(next(ch_iterator))\n",
    "        count+=1"
   ]
  },
  {
   "cell_type": "markdown",
   "id": "22216f70-b230-4983-8f77-d463c6e38862",
   "metadata": {},
   "source": [
    "Q4. What is a generator function in python? Why yield keyword is used? Give an example of a generator\n",
    "function."
   ]
  },
  {
   "cell_type": "markdown",
   "id": "dcebe4a0-1db8-4d39-95ef-f37ab285a6b0",
   "metadata": {},
   "source": [
    "A generator function in Python is a special type of function that returns a generator iterator, which can be used to iterate over a sequence of elements. A generator function is defined like a normal function, but instead of using the return statement to return a value, it uses the yield statement. The yield statement is used to produce a value, and the generator function can be resumed from where it left off the next time next() is called on the generator."
   ]
  },
  {
   "cell_type": "code",
   "execution_count": 27,
   "id": "5f4d2242-5030-4e4d-a9e2-1a026616297d",
   "metadata": {},
   "outputs": [
    {
     "name": "stdout",
     "output_type": "stream",
     "text": [
      "0\n",
      "1\n",
      "1\n",
      "2\n",
      "3\n",
      "5\n",
      "8\n",
      "13\n",
      "21\n",
      "34\n"
     ]
    }
   ],
   "source": [
    "def fibonacci():\n",
    "    \"\"\"This function will generate fibonacci sequence\"\"\"\n",
    "    a, b = 0, 1\n",
    "    while True:\n",
    "        yield a\n",
    "        a, b = b, a + b\n",
    "\n",
    "fib = fibonacci()\n",
    "for i in range(10):\n",
    "    print(next(fib))"
   ]
  },
  {
   "cell_type": "markdown",
   "id": "2923b237-a624-4666-ac73-878ce0af6913",
   "metadata": {},
   "source": [
    "Q5. Create a generator function for prime numbers less than 1000. Use the next() method to print the\n",
    "first 20 prime numbers."
   ]
  },
  {
   "cell_type": "code",
   "execution_count": 28,
   "id": "ce33c655-928f-49b4-beda-54c3b927d955",
   "metadata": {},
   "outputs": [
    {
     "name": "stdout",
     "output_type": "stream",
     "text": [
      "2\n",
      "3\n",
      "5\n",
      "7\n",
      "11\n",
      "13\n",
      "17\n",
      "19\n",
      "23\n",
      "29\n",
      "31\n",
      "37\n",
      "41\n",
      "43\n",
      "47\n",
      "53\n",
      "59\n",
      "61\n",
      "67\n",
      "71\n"
     ]
    }
   ],
   "source": [
    "\n",
    "#a generator function for prime numbers less than 1000. Use the next() method to print the first 20 prime numbers.\n",
    "def primes():\n",
    "    \"\"\"Creating a generator function for prime numbers less than 1000.\"\"\"\n",
    "    yield 2\n",
    "    primes_list = [2]\n",
    "    for i in range(3, 1000):\n",
    "        is_prime = True\n",
    "        for prime in primes_list:\n",
    "            if i % prime == 0:\n",
    "                is_prime = False\n",
    "                break\n",
    "        if is_prime:\n",
    "            primes_list.append(i)\n",
    "            yield i\n",
    "\n",
    "prime_gen = primes()\n",
    "# the next() method to print the first 20 prime numbers.\n",
    "for i in range(20):\n",
    "    print(next(prime_gen))\n"
   ]
  },
  {
   "cell_type": "markdown",
   "id": "dbca6c5e-cf70-4168-b2f0-bc246a2caae2",
   "metadata": {},
   "source": [
    "Q6. Write a python program to print the first 10 Fibonacci numbers using a while loop."
   ]
  },
  {
   "cell_type": "code",
   "execution_count": 29,
   "id": "fdee5b32-dc07-4d00-9b7f-50fa6f5d2bfd",
   "metadata": {},
   "outputs": [
    {
     "name": "stdout",
     "output_type": "stream",
     "text": [
      "0\n",
      "1\n",
      "1\n",
      "2\n",
      "3\n",
      "5\n",
      "8\n",
      "13\n",
      "21\n",
      "34\n"
     ]
    }
   ],
   "source": [
    "def fibonacci(n):\n",
    "    \"\"\"This function will print fibonacci sequence\"\"\"\n",
    "    a, b = 0, 1\n",
    "    count = 0\n",
    "    while count < n:\n",
    "        print(a)\n",
    "        a, b = b, a + b\n",
    "        count += 1\n",
    "\n",
    "fibonacci(10)\n"
   ]
  },
  {
   "cell_type": "markdown",
   "id": "5cd8d6fa-e636-422c-939e-f739c06b34a6",
   "metadata": {},
   "source": [
    "Q7. Write a List Comprehension to iterate through the given string: ‘pwskills’.\n",
    "Expected output: ['p', 'w', 's', 'k', 'i', 'l', 'l', 's']"
   ]
  },
  {
   "cell_type": "code",
   "execution_count": 30,
   "id": "07d34673-ba40-478f-8904-1fdaf5a4bb46",
   "metadata": {},
   "outputs": [
    {
     "name": "stdout",
     "output_type": "stream",
     "text": [
      "['p', 'w', 's', 'k', 'i', 'l', 'l', 's']\n"
     ]
    }
   ],
   "source": [
    "string = 'pwskills'\n",
    "output = [char for char in string]\n",
    "print(output)"
   ]
  },
  {
   "cell_type": "markdown",
   "id": "933f251a-8659-4683-857c-bdd8781c5e43",
   "metadata": {},
   "source": [
    "Q8. Write a python program to check whether a given number is Palindrome or not using a while loop."
   ]
  },
  {
   "cell_type": "code",
   "execution_count": 32,
   "id": "662936e6-3048-49e9-99ba-04d301662b7a",
   "metadata": {},
   "outputs": [
    {
     "name": "stdin",
     "output_type": "stream",
     "text": [
      "Please enter a number :  121\n"
     ]
    },
    {
     "name": "stdout",
     "output_type": "stream",
     "text": [
      "Given number is a palindrome\n"
     ]
    }
   ],
   "source": [
    "n = int(input(\"Please enter a number : \"))\n",
    "def reverse(num):\n",
    "    if num<10:\n",
    "      return num \n",
    "    else:\n",
    "      return int(str(num%10) + str(reverse(num//10)))\n",
    "def isPalindrome(num):\n",
    "    if num == reverse(num):\n",
    "        return 1\n",
    "    return 0\n",
    "if isPalindrome(n) == 1:\n",
    "    print(\"Given number is a palindrome\")\n",
    "else:\n",
    "    print(\"Given number is a not palindrome\") \n"
   ]
  },
  {
   "cell_type": "markdown",
   "id": "04b573bd-0f69-44ba-988b-754254edcd4a",
   "metadata": {},
   "source": [
    "Q9. Write a code to print odd numbers from 1 to 100 using list comprehension.\n",
    "Note: Use a list comprehension to create a list from 1 to 100 and use another List comprehension to filter\n",
    "out odd numbers."
   ]
  },
  {
   "cell_type": "code",
   "execution_count": 33,
   "id": "cf01700e-5f46-4cc8-a73b-0ee828656c93",
   "metadata": {},
   "outputs": [
    {
     "data": {
      "text/plain": [
       "[1,\n",
       " 3,\n",
       " 5,\n",
       " 7,\n",
       " 9,\n",
       " 11,\n",
       " 13,\n",
       " 15,\n",
       " 17,\n",
       " 19,\n",
       " 21,\n",
       " 23,\n",
       " 25,\n",
       " 27,\n",
       " 29,\n",
       " 31,\n",
       " 33,\n",
       " 35,\n",
       " 37,\n",
       " 39,\n",
       " 41,\n",
       " 43,\n",
       " 45,\n",
       " 47,\n",
       " 49,\n",
       " 51,\n",
       " 53,\n",
       " 55,\n",
       " 57,\n",
       " 59,\n",
       " 61,\n",
       " 63,\n",
       " 65,\n",
       " 67,\n",
       " 69,\n",
       " 71,\n",
       " 73,\n",
       " 75,\n",
       " 77,\n",
       " 79,\n",
       " 81,\n",
       " 83,\n",
       " 85,\n",
       " 87,\n",
       " 89,\n",
       " 91,\n",
       " 93,\n",
       " 95,\n",
       " 97,\n",
       " 99]"
      ]
     },
     "execution_count": 33,
     "metadata": {},
     "output_type": "execute_result"
    }
   ],
   "source": [
    "[odd for odd in range(1,100) if odd%2!=0]"
   ]
  },
  {
   "cell_type": "code",
   "execution_count": null,
   "id": "3629361b-3ec9-47af-b610-a83c1749679e",
   "metadata": {},
   "outputs": [],
   "source": []
  }
 ],
 "metadata": {
  "kernelspec": {
   "display_name": "Python 3 (ipykernel)",
   "language": "python",
   "name": "python3"
  },
  "language_info": {
   "codemirror_mode": {
    "name": "ipython",
    "version": 3
   },
   "file_extension": ".py",
   "mimetype": "text/x-python",
   "name": "python",
   "nbconvert_exporter": "python",
   "pygments_lexer": "ipython3",
   "version": "3.10.8"
  }
 },
 "nbformat": 4,
 "nbformat_minor": 5
}
